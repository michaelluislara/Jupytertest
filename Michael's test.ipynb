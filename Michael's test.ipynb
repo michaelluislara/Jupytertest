{
 "cells": [
  {
   "cell_type": "code",
   "execution_count": 3,
   "id": "e2b1f7d4-6b9b-4684-9861-54b242e25278",
   "metadata": {},
   "outputs": [],
   "source": [
    "import pandas as pd\n",
    "import os\n",
    "import requests\n",
    "import json"
   ]
  },
  {
   "cell_type": "code",
   "execution_count": 4,
   "id": "158b530b-4dcd-460c-81ff-b060f099d42a",
   "metadata": {},
   "outputs": [],
   "source": [
    "r = requests.get(r\"https://api.weather.gc.ca/collections/climate-hourly/items?f=json&lang=en-CA&limit=10000&LOCAL_YEAR=2023&PROVINCE_CODE=BC\")"
   ]
  },
  {
   "cell_type": "code",
   "execution_count": 5,
   "id": "2073d34e-e431-409b-9f8a-92bba509c3e0",
   "metadata": {},
   "outputs": [],
   "source": [
    "weatherdict = json.loads(r.text)"
   ]
  },
  {
   "cell_type": "code",
   "execution_count": 6,
   "id": "97210059-65ee-430e-a704-aab348ccd4ce",
   "metadata": {},
   "outputs": [],
   "source": [
    "df = pd.json_normalize(weatherdict, record_path='features')"
   ]
  },
  {
   "cell_type": "code",
   "execution_count": 12,
   "id": "13ec3884-6223-4c9b-acf0-077a169764de",
   "metadata": {},
   "outputs": [
    {
     "data": {
      "text/plain": [
       "Index(['id', 'type', 'geometry.coordinates', 'geometry.type',\n",
       "       'properties.STATION_NAME', 'properties.CLIMATE_IDENTIFIER',\n",
       "       'properties.ID', 'properties.LOCAL_DATE', 'properties.PROVINCE_CODE',\n",
       "       'properties.LOCAL_YEAR', 'properties.LOCAL_MONTH',\n",
       "       'properties.LOCAL_DAY', 'properties.LOCAL_HOUR', 'properties.TEMP',\n",
       "       'properties.TEMP_FLAG', 'properties.DEW_POINT_TEMP',\n",
       "       'properties.DEW_POINT_TEMP_FLAG', 'properties.HUMIDEX',\n",
       "       'properties.HUMIDEX_FLAG', 'properties.PRECIP_AMOUNT',\n",
       "       'properties.PRECIP_AMOUNT_FLAG', 'properties.RELATIVE_HUMIDITY',\n",
       "       'properties.RELATIVE_HUMIDITY_FLAG', 'properties.STATION_PRESSURE',\n",
       "       'properties.STATION_PRESSURE_FLAG', 'properties.VISIBILITY',\n",
       "       'properties.VISIBILITY_FLAG', 'properties.WINDCHILL',\n",
       "       'properties.WINDCHILL_FLAG', 'properties.WIND_DIRECTION',\n",
       "       'properties.WIND_DIRECTION_FLAG', 'properties.WIND_SPEED',\n",
       "       'properties.WIND_SPEED_FLAG'],\n",
       "      dtype='object')"
      ]
     },
     "execution_count": 12,
     "metadata": {},
     "output_type": "execute_result"
    }
   ],
   "source": [
    "df.columns"
   ]
  },
  {
   "cell_type": "code",
   "execution_count": 14,
   "id": "0090827b-8a19-4acf-b9ae-e55dbc5efa61",
   "metadata": {},
   "outputs": [],
   "source": [
    "df['properties.LOCAL_DATE'] = pd.to_datetime(df['properties.LOCAL_DATE'])"
   ]
  },
  {
   "cell_type": "code",
   "execution_count": 16,
   "id": "b18f9d40-c69d-450c-b435-a1216086b890",
   "metadata": {},
   "outputs": [
    {
     "ename": "ModuleNotFoundError",
     "evalue": "No module named 'plotly'",
     "output_type": "error",
     "traceback": [
      "\u001b[0;31m---------------------------------------------------------------------------\u001b[0m",
      "\u001b[0;31mModuleNotFoundError\u001b[0m                       Traceback (most recent call last)",
      "Cell \u001b[0;32mIn[16], line 1\u001b[0m\n\u001b[0;32m----> 1\u001b[0m \u001b[38;5;28;01mimport\u001b[39;00m \u001b[38;5;21;01mplotly\u001b[39;00m\u001b[38;5;21;01m.\u001b[39;00m\u001b[38;5;21;01mexpress\u001b[39;00m \u001b[38;5;28;01mas\u001b[39;00m \u001b[38;5;21;01mpx\u001b[39;00m\n",
      "\u001b[0;31mModuleNotFoundError\u001b[0m: No module named 'plotly'"
     ]
    }
   ],
   "source": [
    "import plotly.express as px"
   ]
  },
  {
   "cell_type": "code",
   "execution_count": null,
   "id": "a6be355f-5b39-4525-9f14-22315caed3bf",
   "metadata": {},
   "outputs": [],
   "source": []
  }
 ],
 "metadata": {
  "kernelspec": {
   "display_name": "Python 3 (ipykernel)",
   "language": "python",
   "name": "python3"
  },
  "language_info": {
   "codemirror_mode": {
    "name": "ipython",
    "version": 3
   },
   "file_extension": ".py",
   "mimetype": "text/x-python",
   "name": "python",
   "nbconvert_exporter": "python",
   "pygments_lexer": "ipython3",
   "version": "3.9.13"
  }
 },
 "nbformat": 4,
 "nbformat_minor": 5
}
