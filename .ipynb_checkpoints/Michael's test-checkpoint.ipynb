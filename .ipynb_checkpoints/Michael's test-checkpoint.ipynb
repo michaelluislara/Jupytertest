{
 "cells": [
  {
   "cell_type": "code",
   "execution_count": 11,
   "id": "e2b1f7d4-6b9b-4684-9861-54b242e25278",
   "metadata": {},
   "outputs": [
    {
     "ename": "ModuleNotFoundError",
     "evalue": "No module named 'flatten_json'",
     "output_type": "error",
     "traceback": [
      "\u001b[0;31m---------------------------------------------------------------------------\u001b[0m",
      "\u001b[0;31mModuleNotFoundError\u001b[0m                       Traceback (most recent call last)",
      "Cell \u001b[0;32mIn[11], line 5\u001b[0m\n\u001b[1;32m      3\u001b[0m \u001b[38;5;28;01mimport\u001b[39;00m \u001b[38;5;21;01mrequests\u001b[39;00m\n\u001b[1;32m      4\u001b[0m \u001b[38;5;28;01mimport\u001b[39;00m \u001b[38;5;21;01mjson\u001b[39;00m\n\u001b[0;32m----> 5\u001b[0m \u001b[38;5;28;01mimport\u001b[39;00m \u001b[38;5;21;01mflatten_json\u001b[39;00m\n",
      "\u001b[0;31mModuleNotFoundError\u001b[0m: No module named 'flatten_json'"
     ]
    }
   ],
   "source": [
    "import pandas as pd\n",
    "import os\n",
    "import requests\n",
    "import json"
   ]
  },
  {
   "cell_type": "code",
   "execution_count": 14,
   "id": "158b530b-4dcd-460c-81ff-b060f099d42a",
   "metadata": {},
   "outputs": [],
   "source": [
    "r = requests.get(\"https://api.weather.gc.ca/collections/hydrometric-monthly-mean/items?f=json\")"
   ]
  },
  {
   "cell_type": "code",
   "execution_count": 15,
   "id": "2073d34e-e431-409b-9f8a-92bba509c3e0",
   "metadata": {},
   "outputs": [],
   "source": [
    "weatherdict = json.loads(r.text)"
   ]
  },
  {
   "cell_type": "code",
   "execution_count": 22,
   "id": "97210059-65ee-430e-a704-aab348ccd4ce",
   "metadata": {},
   "outputs": [],
   "source": [
    "df = pd.json_normalize(weatherdict, record_path='features' )"
   ]
  }
 ],
 "metadata": {
  "kernelspec": {
   "display_name": "Python 3 (ipykernel)",
   "language": "python",
   "name": "python3"
  },
  "language_info": {
   "codemirror_mode": {
    "name": "ipython",
    "version": 3
   },
   "file_extension": ".py",
   "mimetype": "text/x-python",
   "name": "python",
   "nbconvert_exporter": "python",
   "pygments_lexer": "ipython3",
   "version": "3.9.13"
  }
 },
 "nbformat": 4,
 "nbformat_minor": 5
}
